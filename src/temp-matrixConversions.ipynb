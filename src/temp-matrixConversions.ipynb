{
 "cells": [
  {
   "cell_type": "code",
   "execution_count": 1,
   "metadata": {
    "collapsed": true
   },
   "outputs": [],
   "source": [
    "import logging\n",
    "import numpy as np\n",
    "\n",
    "logging.basicConfig(level=logging.DEBUG, format='%(asctime)s. %(levelname)s in %(funcName)s: %(message)s')"
   ]
  },
  {
   "cell_type": "code",
   "execution_count": 2,
   "metadata": {
    "collapsed": false
   },
   "outputs": [
    {
     "data": {
      "text/plain": [
       "u'D:\\\\FF\\\\code\\\\src'"
      ]
     },
     "execution_count": 2,
     "metadata": {},
     "output_type": "execute_result"
    }
   ],
   "source": [
    "pwd()"
   ]
  },
  {
   "cell_type": "code",
   "execution_count": 3,
   "metadata": {
    "collapsed": false,
    "scrolled": true
   },
   "outputs": [
    {
     "name": "stdout",
     "output_type": "stream",
     "text": [
      " Volume in drive D is Data\n",
      " Volume Serial Number is 1406-ADC1\n",
      "\n",
      " Directory of D:\\FF\\code\\generate\n",
      "\n",
      "13/10/2016  12:58 PM    <DIR>          .\n",
      "13/10/2016  12:58 PM    <DIR>          ..\n",
      "13/10/2016  11:14 AM           134,525 bay.mat\n",
      "13/10/2016  11:13 AM               940 fvm.m\n",
      "14/10/2016  06:14 PM             1,090 getA.m\n",
      "13/10/2016  11:14 AM           128,621 mass.txt\n",
      "13/10/2016  11:13 AM           205,646 stiff.txt\n",
      "13/10/2016  11:13 AM             1,459 stokes.edp\n",
      "13/10/2016  11:14 AM            18,225 u.txt\n",
      "13/10/2016  11:14 AM            19,151 v.txt\n",
      "13/10/2016  11:14 AM               836 write_csr_matrix.m\n",
      "               9 File(s)        510,493 bytes\n",
      "               2 Dir(s)  338,544,721,920 bytes free\n"
     ]
    }
   ],
   "source": [
    "ls ..\\generate"
   ]
  },
  {
   "cell_type": "code",
   "execution_count": 48,
   "metadata": {
    "collapsed": true
   },
   "outputs": [],
   "source": [
    "def readVectFF(f):\n",
    "    \"\"\"Reads a vector in the form output by FreeFem++.\n",
    "    \n",
    "    First line contains the number of entries: nbcoef. \n",
    "    Next lines contain the entries, with 5 entries per line, \n",
    "    separated by tab.\n",
    "    Entries are read left to right, then line by line.\n",
    "    \"\"\"\n",
    "    \n",
    "    nbcoef = int(f.next().strip())\n",
    "    logging.info(\"attempt to read %s values\", nbcoef)\n",
    "    arr = np.loadtxt(f)\n",
    "    arr = arr.flatten(order='C')\n",
    "    if len(arr) != nbcoef:\n",
    "        errMsg = \"readVectFF: Inconsistent dimension, expected %d, got %d\" %(nbcoef, len(arr))\n",
    "        logging.error(errMsg)\n",
    "        raise RuntimeError(errMsg)\n",
    "    logging.info(\"successfully read %s values\", nbcoef)\n",
    "    return arr\n",
    "        "
   ]
  },
  {
   "cell_type": "code",
   "execution_count": 49,
   "metadata": {
    "collapsed": false,
    "scrolled": true
   },
   "outputs": [],
   "source": [
    "with open('..\\generate\\u.txt', 'r') as f:\n",
    "    x = readVectFF(f)"
   ]
  },
  {
   "cell_type": "code",
   "execution_count": 50,
   "metadata": {
    "collapsed": false
   },
   "outputs": [
    {
     "data": {
      "text/plain": [
       "array([ 0.02493221,  0.00731244,  0.05315321, ...,  0.41820378,\n",
       "        0.42036873,  0.41557122])"
      ]
     },
     "execution_count": 50,
     "metadata": {},
     "output_type": "execute_result"
    }
   ],
   "source": [
    "x"
   ]
  },
  {
   "cell_type": "code",
   "execution_count": 51,
   "metadata": {
    "collapsed": false
   },
   "outputs": [
    {
     "data": {
      "text/plain": [
       "1370"
      ]
     },
     "execution_count": 51,
     "metadata": {},
     "output_type": "execute_result"
    }
   ],
   "source": [
    "len(x)"
   ]
  },
  {
   "cell_type": "code",
   "execution_count": 55,
   "metadata": {
    "collapsed": true
   },
   "outputs": [],
   "source": [
    "def readSparseFF(f):\n",
    "    \"\"\"Reads a sparse matrix in the form (Morse) output by FreeFem++.\n",
    "    \n",
    "    First line contains: n m (is symmetic) nbcoef \n",
    "    Next lines contain, for each nonzero coefficient:   i j a_ij where (i,j) \\in  {1,...,n}x{1,...,m} \n",
    "    \"\"\"\n",
    "    \n",
    "    # strip comment header\n",
    "    row = f.next().strip()\n",
    "    while row[0] == '#':\n",
    "        row = f.next().strip()\n",
    "    # read shape\n",
    "    n, m, issym, nbcoef = map(int, row.split())\n",
    "    logging.info(\"sparse (%s x %s), sym? %s, attempt to read %s values\", n, m, issym, nbcoef)\n",
    "    # read nzeros\n",
    "    ijv = np.loadtxt(f)\n",
    "    nrows, ncols = ijv.shape\n",
    "    # check dims\n",
    "    if nrows != nbcoef:\n",
    "        errMsg = \"Inconsistent dimensions, expected %d, got %d\" %(nbcoef, nrows)\n",
    "        logging.error(errMsg)\n",
    "        raise RuntimeError(errMsg)\n",
    "    if ncols != 3:\n",
    "        errMsg = \"Inconsistent dimensions, expected %d, got %d\" %(3, ncols)\n",
    "        logging.error(errMsg)\n",
    "        raise RuntimeError(errMsg)\n",
    "    # populate matrix\n",
    "    res = np.zeros((n,m))\n",
    "    for ifloat,jfloat,v in ijv:\n",
    "        i, j = int(ifloat) - 1, int(jfloat) - 1  # python is 0-based\n",
    "        res[i,j] = v\n",
    "        if issym != 0:\n",
    "            res[j,i] = v\n",
    "\n",
    "    logging.info(\"successfully read %s values\", nbcoef)\n",
    "    return res\n",
    "        "
   ]
  },
  {
   "cell_type": "code",
   "execution_count": 56,
   "metadata": {
    "collapsed": false
   },
   "outputs": [],
   "source": [
    "with open('..\\generate\\stiff.txt', 'r') as f:\n",
    "    s = readSparseFF(f)"
   ]
  },
  {
   "cell_type": "code",
   "execution_count": 57,
   "metadata": {
    "collapsed": false
   },
   "outputs": [
    {
     "data": {
      "text/plain": [
       "(736L, 736L)"
      ]
     },
     "execution_count": 57,
     "metadata": {},
     "output_type": "execute_result"
    }
   ],
   "source": [
    "s.shape"
   ]
  },
  {
   "cell_type": "code",
   "execution_count": null,
   "metadata": {
    "collapsed": true
   },
   "outputs": [],
   "source": []
  }
 ],
 "metadata": {
  "kernelspec": {
   "display_name": "Python [Root]",
   "language": "python",
   "name": "Python [Root]"
  },
  "language_info": {
   "codemirror_mode": {
    "name": "ipython",
    "version": 2
   },
   "file_extension": ".py",
   "mimetype": "text/x-python",
   "name": "python",
   "nbconvert_exporter": "python",
   "pygments_lexer": "ipython2",
   "version": "2.7.12"
  }
 },
 "nbformat": 4,
 "nbformat_minor": 0
}
