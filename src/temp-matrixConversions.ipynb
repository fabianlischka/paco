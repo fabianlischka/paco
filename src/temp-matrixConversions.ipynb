{
 "cells": [
  {
   "cell_type": "code",
   "execution_count": 3,
   "metadata": {
    "collapsed": true
   },
   "outputs": [],
   "source": [
    "import logging\n",
    "import numpy as np\n",
    "\n",
    "logging.basicConfig(level=logging.DEBUG, format='%(asctime)s. %(levelname)s in %(funcName)s: %(message)s')"
   ]
  },
  {
   "cell_type": "code",
   "execution_count": 13,
   "metadata": {
    "collapsed": false
   },
   "outputs": [
    {
     "data": {
      "text/plain": [
       "u'D:\\\\FF\\\\paco'"
      ]
     },
     "execution_count": 13,
     "metadata": {},
     "output_type": "execute_result"
    }
   ],
   "source": [
    "pwd"
   ]
  },
  {
   "cell_type": "code",
   "execution_count": 17,
   "metadata": {
    "collapsed": false,
    "scrolled": true
   },
   "outputs": [],
   "source": [
    "import paco.pacoUtils as pu"
   ]
  },
  {
   "cell_type": "code",
   "execution_count": 48,
   "metadata": {
    "collapsed": true
   },
   "outputs": [],
   "source": [
    "def readVectFF(f):\n",
    "    \"\"\"Reads a vector in the form output by FreeFem++.\n",
    "    \n",
    "    First line contains the number of entries: nbcoef. \n",
    "    Next lines contain the entries, with 5 entries per line, \n",
    "    separated by tab.\n",
    "    Entries are read left to right, then line by line.\n",
    "    \"\"\"\n",
    "    \n",
    "    nbcoef = int(f.next().strip())\n",
    "    logging.info(\"attempt to read %s values\", nbcoef)\n",
    "    arr = np.loadtxt(f)\n",
    "    arr = arr.flatten(order='C')\n",
    "    if len(arr) != nbcoef:\n",
    "        errMsg = \"readVectFF: Inconsistent dimension, expected %d, got %d\" %(nbcoef, len(arr))\n",
    "        logging.error(errMsg)\n",
    "        raise RuntimeError(errMsg)\n",
    "    logging.info(\"successfully read %s values\", nbcoef)\n",
    "    return arr\n",
    "        "
   ]
  },
  {
   "cell_type": "code",
   "execution_count": 49,
   "metadata": {
    "collapsed": false,
    "scrolled": true
   },
   "outputs": [],
   "source": [
    "with open('..\\generate\\u.txt', 'r') as f:\n",
    "    x = readVectFF(f)"
   ]
  },
  {
   "cell_type": "code",
   "execution_count": 50,
   "metadata": {
    "collapsed": false
   },
   "outputs": [
    {
     "data": {
      "text/plain": [
       "array([ 0.02493221,  0.00731244,  0.05315321, ...,  0.41820378,\n",
       "        0.42036873,  0.41557122])"
      ]
     },
     "execution_count": 50,
     "metadata": {},
     "output_type": "execute_result"
    }
   ],
   "source": [
    "x"
   ]
  },
  {
   "cell_type": "code",
   "execution_count": 51,
   "metadata": {
    "collapsed": false
   },
   "outputs": [
    {
     "data": {
      "text/plain": [
       "1370"
      ]
     },
     "execution_count": 51,
     "metadata": {},
     "output_type": "execute_result"
    }
   ],
   "source": [
    "len(x)"
   ]
  },
  {
   "cell_type": "code",
   "execution_count": 55,
   "metadata": {
    "collapsed": true
   },
   "outputs": [],
   "source": [
    "def readSparseFF(f):\n",
    "    \"\"\"Reads a sparse matrix in the form (Morse) output by FreeFem++.\n",
    "    \n",
    "    First line contains: n m (is symmetic) nbcoef \n",
    "    Next lines contain, for each nonzero coefficient:   i j a_ij where (i,j) \\in  {1,...,n}x{1,...,m} \n",
    "    \"\"\"\n",
    "    \n",
    "    # strip comment header\n",
    "    row = f.next().strip()\n",
    "    while row[0] == '#':\n",
    "        row = f.next().strip()\n",
    "    # read shape\n",
    "    n, m, issym, nbcoef = map(int, row.split())\n",
    "    logging.info(\"sparse (%s x %s), sym? %s, attempt to read %s values\", n, m, issym, nbcoef)\n",
    "    # read nzeros\n",
    "    ijv = np.loadtxt(f)\n",
    "    nrows, ncols = ijv.shape\n",
    "    # check dims\n",
    "    if nrows != nbcoef:\n",
    "        errMsg = \"Inconsistent dimensions, expected %d, got %d\" %(nbcoef, nrows)\n",
    "        logging.error(errMsg)\n",
    "        raise RuntimeError(errMsg)\n",
    "    if ncols != 3:\n",
    "        errMsg = \"Inconsistent dimensions, expected %d, got %d\" %(3, ncols)\n",
    "        logging.error(errMsg)\n",
    "        raise RuntimeError(errMsg)\n",
    "    # populate matrix\n",
    "    res = np.zeros((n,m))\n",
    "    for ifloat,jfloat,v in ijv:\n",
    "        i, j = int(ifloat) - 1, int(jfloat) - 1  # python is 0-based\n",
    "        res[i,j] = v\n",
    "        if issym != 0:\n",
    "            res[j,i] = v\n",
    "\n",
    "    logging.info(\"successfully read %s values\", nbcoef)\n",
    "    return res\n",
    "        "
   ]
  },
  {
   "cell_type": "code",
   "execution_count": 56,
   "metadata": {
    "collapsed": false
   },
   "outputs": [],
   "source": [
    "with open('..\\generate\\stiff.txt', 'r') as f:\n",
    "    s = readSparseFF(f)"
   ]
  },
  {
   "cell_type": "code",
   "execution_count": 57,
   "metadata": {
    "collapsed": false
   },
   "outputs": [
    {
     "data": {
      "text/plain": [
       "(736L, 736L)"
      ]
     },
     "execution_count": 57,
     "metadata": {},
     "output_type": "execute_result"
    }
   ],
   "source": [
    "s.shape"
   ]
  },
  {
   "cell_type": "code",
   "execution_count": 1,
   "metadata": {
    "collapsed": false
   },
   "outputs": [
    {
     "data": {
      "text/plain": [
       "u'D:\\\\FF\\\\paco\\\\src'"
      ]
     },
     "execution_count": 1,
     "metadata": {},
     "output_type": "execute_result"
    }
   ],
   "source": [
    "pwd()"
   ]
  },
  {
   "cell_type": "code",
   "execution_count": 19,
   "metadata": {
    "collapsed": false
   },
   "outputs": [
    {
     "name": "stderr",
     "output_type": "stream",
     "text": [
      "2016-11-15 17:42:18,894. DEBUG in read_csr_matrix: attempting to read matrix in CSR format...\n",
      "2016-11-15 17:42:18,894. DEBUG in read_csr_matrix: attempting to read (736 x 736) matrix in CSR format...\n",
      "2016-11-15 17:42:18,911. INFO in read_csr_matrix: successfully read (736 x 736) matrix in CSR format with nnz 4946.\n",
      "2016-11-15 17:42:18,937. DEBUG in read_csr_matrix: attempting to read matrix in CSR format...\n",
      "2016-11-15 17:42:18,938. DEBUG in read_csr_matrix: attempting to read (736 x 736) matrix in CSR format...\n",
      "2016-11-15 17:42:18,954. INFO in read_csr_matrix: successfully read (736 x 736) matrix in CSR format with nnz 4946.\n"
     ]
    }
   ],
   "source": [
    "Aref = pu.read_csr_matrix(open(\"runs\\\\bay\\\\bayREF_s2_A.txt\", \"r\"))\n",
    "Arun = pu.read_csr_matrix(open(\"runs\\\\bay\\\\bayrun_s2_A.txt\", \"r\"))"
   ]
  },
  {
   "cell_type": "code",
   "execution_count": 27,
   "metadata": {
    "collapsed": false
   },
   "outputs": [
    {
     "data": {
      "text/plain": [
       "array([[ 18.24302629,  -2.12542865,  -4.74834635,   0.        ,\n",
       "          0.        ,   0.        ],\n",
       "       [ -4.95297701,  19.75467806,  -6.73354761,   0.        ,\n",
       "          0.        ,  -1.12166326],\n",
       "       [ -5.64640651,  -3.04448637,  27.49759487,  -3.64660761,\n",
       "          0.        ,   0.        ],\n",
       "       [  0.        ,   0.        ,  -3.13161298,  36.63096494,\n",
       "         -4.6626828 ,   0.        ],\n",
       "       [  0.        ,   0.        ,   0.        ,  -3.56103884,\n",
       "         54.99933169,   0.        ],\n",
       "       [  0.        ,  -5.53770732,   0.        ,   0.        ,\n",
       "          0.        ,  21.31237229]])"
      ]
     },
     "execution_count": 27,
     "metadata": {},
     "output_type": "execute_result"
    }
   ],
   "source": [
    "Aref[0:6,0:6]"
   ]
  },
  {
   "cell_type": "code",
   "execution_count": 28,
   "metadata": {
    "collapsed": false
   },
   "outputs": [
    {
     "data": {
      "text/plain": [
       "array([[ 14.99750919,  -2.12542865,  -4.74834635,   0.        ,\n",
       "          0.        ,   0.        ],\n",
       "       [ -3.53920283,  15.17993917,  -4.88901699,   0.        ,\n",
       "          0.        ,  -1.12166326],\n",
       "       [ -5.19737643,  -3.04448637,  19.55309687,  -3.3891103 ,\n",
       "          0.        ,   0.        ],\n",
       "       [  0.        ,   0.        ,  -3.13161298,  24.75774094,\n",
       "         -4.11186082,   0.        ],\n",
       "       [  0.        ,   0.        ,   0.        ,  -3.56103884,\n",
       "         35.23019745,   0.        ],\n",
       "       [  0.        ,  -3.32968529,   0.        ,   0.        ,\n",
       "          0.        ,  15.23584746]])"
      ]
     },
     "execution_count": 28,
     "metadata": {},
     "output_type": "execute_result"
    }
   ],
   "source": [
    "Arun[0:6,0:6]"
   ]
  },
  {
   "cell_type": "code",
   "execution_count": 24,
   "metadata": {
    "collapsed": false
   },
   "outputs": [
    {
     "name": "stderr",
     "output_type": "stream",
     "text": [
      "2016-11-15 18:33:20,260. DEBUG in readSparseFF: attempt to read FF sparse matrix...\n",
      "2016-11-15 18:33:20,263. DEBUG in readSparseFF: read sparse FF (736 x 736), sym? 0, 4946 values...\n",
      "2016-11-15 18:33:20,313. INFO in readSparseFF: successfully read 4946 values from FF sparse matrix.\n",
      "2016-11-15 18:33:20,315. DEBUG in readSparseFF: attempt to read FF sparse matrix...\n",
      "2016-11-15 18:33:20,315. DEBUG in readSparseFF: read sparse FF (736 x 736), sym? 0, 4946 values...\n",
      "2016-11-15 18:33:20,367. INFO in readSparseFF: successfully read 4946 values from FF sparse matrix.\n"
     ]
    }
   ],
   "source": [
    "stiffref = pu.readSparseFF(open(\"runs\\\\bay\\\\bayREF_s1_stiff.txt\", \"r\"))\n",
    "stiffrun = pu.readSparseFF(open(\"runs\\\\bay\\\\bayrun_s1_stiff.txt\", \"r\"))\n"
   ]
  },
  {
   "cell_type": "code",
   "execution_count": 25,
   "metadata": {
    "collapsed": false
   },
   "outputs": [
    {
     "data": {
      "text/plain": [
       "True"
      ]
     },
     "execution_count": 25,
     "metadata": {},
     "output_type": "execute_result"
    }
   ],
   "source": [
    "np.array_equal(stiffref, stiffrun)"
   ]
  },
  {
   "cell_type": "code",
   "execution_count": 29,
   "metadata": {
    "collapsed": false
   },
   "outputs": [
    {
     "data": {
      "text/plain": [
       "array([[  3.24551710e+00,   0.00000000e+00,  -8.88178420e-16,\n",
       "          0.00000000e+00,   0.00000000e+00,   0.00000000e+00,\n",
       "          0.00000000e+00,   0.00000000e+00],\n",
       "       [ -1.41377418e+00,   4.57473889e+00,  -1.84453062e+00,\n",
       "          0.00000000e+00,   0.00000000e+00,   0.00000000e+00,\n",
       "          0.00000000e+00,   0.00000000e+00],\n",
       "       [ -4.49030081e-01,   0.00000000e+00,   7.94449800e+00,\n",
       "         -2.57497312e-01,   0.00000000e+00,   0.00000000e+00,\n",
       "          0.00000000e+00,   0.00000000e+00],\n",
       "       [  0.00000000e+00,   0.00000000e+00,  -4.44089210e-16,\n",
       "          1.18732240e+01,  -5.50821981e-01,   0.00000000e+00,\n",
       "          0.00000000e+00,  -2.22044605e-16],\n",
       "       [  0.00000000e+00,   0.00000000e+00,   0.00000000e+00,\n",
       "         -4.44089210e-16,   1.97691342e+01,   0.00000000e+00,\n",
       "          0.00000000e+00,   0.00000000e+00],\n",
       "       [  0.00000000e+00,  -2.20802203e+00,   0.00000000e+00,\n",
       "          0.00000000e+00,   0.00000000e+00,   6.07652483e+00,\n",
       "         -2.18197888e+00,   0.00000000e+00],\n",
       "       [  0.00000000e+00,  -1.09392385e+00,  -2.49074670e+00,\n",
       "         -3.47228203e+00,   0.00000000e+00,   4.44089210e-16,\n",
       "          4.42489865e+00,  -1.14819984e-01],\n",
       "       [  0.00000000e+00,   0.00000000e+00,   0.00000000e+00,\n",
       "         -4.43959926e+00,  -5.91248594e+00,   0.00000000e+00,\n",
       "          0.00000000e+00,   7.07357937e+00]])"
      ]
     },
     "execution_count": 29,
     "metadata": {},
     "output_type": "execute_result"
    }
   ],
   "source": [
    "Aref[0:8,0:8]-Arun[0:8,0:8]"
   ]
  },
  {
   "cell_type": "code",
   "execution_count": 32,
   "metadata": {
    "collapsed": false
   },
   "outputs": [
    {
     "data": {
      "text/plain": [
       "array([[False,  True,  True,  True,  True,  True,  True,  True],\n",
       "       [False, False, False,  True,  True,  True,  True,  True],\n",
       "       [False,  True, False, False,  True,  True,  True,  True],\n",
       "       [ True,  True,  True, False, False,  True,  True,  True],\n",
       "       [ True,  True,  True,  True, False,  True,  True,  True],\n",
       "       [ True, False,  True,  True,  True, False, False,  True],\n",
       "       [ True, False, False, False,  True,  True, False, False],\n",
       "       [ True,  True,  True, False, False,  True,  True, False]], dtype=bool)"
      ]
     },
     "execution_count": 32,
     "metadata": {},
     "output_type": "execute_result"
    }
   ],
   "source": [
    "np.isclose(Aref[0:8,0:8],Arun[0:8,0:8])"
   ]
  },
  {
   "cell_type": "code",
   "execution_count": 38,
   "metadata": {
    "collapsed": false
   },
   "outputs": [
    {
     "name": "stderr",
     "output_type": "stream",
     "text": [
      "2016-11-15 20:12:06,736. DEBUG in readSparseFF: attempt to read FF sparse matrix...\n",
      "2016-11-15 20:12:06,737. DEBUG in readSparseFF: read sparse FF (736 x 736), sym? 0, 4946 values...\n",
      "2016-11-15 20:12:06,798. INFO in readSparseFF: successfully read 4946 values from FF sparse matrix.\n",
      "2016-11-15 20:12:06,799. DEBUG in readSparseFF: attempt to read FF sparse matrix...\n",
      "2016-11-15 20:12:06,799. DEBUG in readSparseFF: read sparse FF (736 x 736), sym? 0, 4946 values...\n",
      "2016-11-15 20:12:06,848. INFO in readSparseFF: successfully read 4946 values from FF sparse matrix.\n",
      "2016-11-15 20:12:06,851. DEBUG in readSparseFF: attempt to read FF sparse matrix...\n",
      "2016-11-15 20:12:06,851. DEBUG in readSparseFF: read sparse FF (736 x 736), sym? 0, 4946 values...\n",
      "2016-11-15 20:12:06,905. INFO in readSparseFF: successfully read 4946 values from FF sparse matrix.\n"
     ]
    },
    {
     "name": "stdout",
     "output_type": "stream",
     "text": [
      "True\n",
      "True\n",
      "True\n"
     ]
    }
   ],
   "source": [
    "massref = pu.readSparseFF(open(\"runs\\\\bay\\\\bayREF_s1_mass.txt\", \"r\"))\n",
    "massrun = pu.readSparseFF(open(\"runs\\\\bay\\\\bayrun_s1_mass.txt\", \"r\"))\n",
    "massgen = pu.readSparseFF(open(\"generate\\\\mass.txt\", \"r\"))\n",
    "print(np.allclose(massref, massrun))\n",
    "print(np.allclose(massref, massgen))\n",
    "print(np.allclose(massrun, massgen))"
   ]
  },
  {
   "cell_type": "code",
   "execution_count": 39,
   "metadata": {
    "collapsed": false
   },
   "outputs": [
    {
     "name": "stderr",
     "output_type": "stream",
     "text": [
      "2016-11-15 20:13:00,687. DEBUG in readSparseFF: attempt to read FF sparse matrix...\n",
      "2016-11-15 20:13:00,688. DEBUG in readSparseFF: read sparse FF (736 x 736), sym? 0, 4946 values...\n",
      "2016-11-15 20:13:00,752. INFO in readSparseFF: successfully read 4946 values from FF sparse matrix.\n",
      "2016-11-15 20:13:00,753. DEBUG in readSparseFF: attempt to read FF sparse matrix...\n",
      "2016-11-15 20:13:00,753. DEBUG in readSparseFF: read sparse FF (736 x 736), sym? 0, 4946 values...\n",
      "2016-11-15 20:13:00,809. INFO in readSparseFF: successfully read 4946 values from FF sparse matrix.\n",
      "2016-11-15 20:13:00,809. DEBUG in readSparseFF: attempt to read FF sparse matrix...\n",
      "2016-11-15 20:13:00,811. DEBUG in readSparseFF: read sparse FF (736 x 736), sym? 0, 4946 values...\n",
      "2016-11-15 20:13:00,868. INFO in readSparseFF: successfully read 4946 values from FF sparse matrix.\n"
     ]
    },
    {
     "name": "stdout",
     "output_type": "stream",
     "text": [
      "True\n",
      "True\n",
      "True\n"
     ]
    }
   ],
   "source": [
    "stiffref = pu.readSparseFF(open(\"runs\\\\bay\\\\bayREF_s1_stiff.txt\", \"r\"))\n",
    "stiffrun = pu.readSparseFF(open(\"runs\\\\bay\\\\bayrun_s1_stiff.txt\", \"r\"))\n",
    "stiffgen = pu.readSparseFF(open(\"generate\\\\stiff.txt\", \"r\"))\n",
    "print(np.allclose(stiffref, stiffrun))\n",
    "print(np.allclose(stiffref, stiffgen))\n",
    "print(np.allclose(stiffrun, stiffgen))"
   ]
  },
  {
   "cell_type": "code",
   "execution_count": 41,
   "metadata": {
    "collapsed": false
   },
   "outputs": [
    {
     "name": "stderr",
     "output_type": "stream",
     "text": [
      "2016-11-15 20:13:56,785. DEBUG in readVectFF: attempt to read FF vect...\n",
      "2016-11-15 20:13:56,786. DEBUG in readVectFF: attempt to read 1370 values from FF vect\n",
      "2016-11-15 20:13:56,789. INFO in readVectFF: successfully read 1370 values from FF vect.\n",
      "2016-11-15 20:13:56,789. DEBUG in readVectFF: attempt to read FF vect...\n",
      "2016-11-15 20:13:56,790. DEBUG in readVectFF: attempt to read 1370 values from FF vect\n",
      "2016-11-15 20:13:56,793. INFO in readVectFF: successfully read 1370 values from FF vect.\n",
      "2016-11-15 20:13:56,844. DEBUG in readVectFF: attempt to read FF vect...\n",
      "2016-11-15 20:13:56,845. DEBUG in readVectFF: attempt to read 1370 values from FF vect\n",
      "2016-11-15 20:13:56,846. INFO in readVectFF: successfully read 1370 values from FF vect.\n"
     ]
    },
    {
     "name": "stdout",
     "output_type": "stream",
     "text": [
      "True\n",
      "True\n",
      "True\n"
     ]
    }
   ],
   "source": [
    "uref = pu.readVectFF(open(\"runs\\\\bay\\\\bayREF_s1_u.txt\", \"r\"))\n",
    "urun = pu.readVectFF(open(\"runs\\\\bay\\\\bayrun_s1_u.txt\", \"r\"))\n",
    "ugen = pu.readVectFF(open(\"generate\\\\u.txt\", \"r\"))\n",
    "print(np.allclose(uref, urun))\n",
    "print(np.allclose(uref, ugen))\n",
    "print(np.allclose(urun, ugen))"
   ]
  },
  {
   "cell_type": "code",
   "execution_count": 42,
   "metadata": {
    "collapsed": false
   },
   "outputs": [
    {
     "name": "stderr",
     "output_type": "stream",
     "text": [
      "2016-11-15 20:14:48,625. DEBUG in readVectFF: attempt to read FF vect...\n",
      "2016-11-15 20:14:48,627. DEBUG in readVectFF: attempt to read 1370 values from FF vect\n",
      "2016-11-15 20:14:48,631. INFO in readVectFF: successfully read 1370 values from FF vect.\n",
      "2016-11-15 20:14:48,632. DEBUG in readVectFF: attempt to read FF vect...\n",
      "2016-11-15 20:14:48,634. DEBUG in readVectFF: attempt to read 1370 values from FF vect\n",
      "2016-11-15 20:14:48,638. INFO in readVectFF: successfully read 1370 values from FF vect.\n",
      "2016-11-15 20:14:48,647. DEBUG in readVectFF: attempt to read FF vect...\n",
      "2016-11-15 20:14:48,648. DEBUG in readVectFF: attempt to read 1370 values from FF vect\n",
      "2016-11-15 20:14:48,650. INFO in readVectFF: successfully read 1370 values from FF vect.\n"
     ]
    },
    {
     "name": "stdout",
     "output_type": "stream",
     "text": [
      "True\n",
      "True\n",
      "True\n"
     ]
    }
   ],
   "source": [
    "vref = pu.readVectFF(open(\"runs\\\\bay\\\\bayREF_s1_v.txt\", \"r\"))\n",
    "vrun = pu.readVectFF(open(\"runs\\\\bay\\\\bayrun_s1_v.txt\", \"r\"))\n",
    "vgen = pu.readVectFF(open(\"generate\\\\v.txt\", \"r\"))\n",
    "print(np.allclose(vref, vrun))\n",
    "print(np.allclose(vref, vgen))\n",
    "print(np.allclose(vrun, vgen))"
   ]
  },
  {
   "cell_type": "code",
   "execution_count": null,
   "metadata": {
    "collapsed": true
   },
   "outputs": [],
   "source": []
  }
 ],
 "metadata": {
  "anaconda-cloud": {},
  "kernelspec": {
   "display_name": "Python [default]",
   "language": "python",
   "name": "python2"
  },
  "language_info": {
   "codemirror_mode": {
    "name": "ipython",
    "version": 2
   },
   "file_extension": ".py",
   "mimetype": "text/x-python",
   "name": "python",
   "nbconvert_exporter": "python",
   "pygments_lexer": "ipython2",
   "version": "2.7.12"
  }
 },
 "nbformat": 4,
 "nbformat_minor": 0
}
